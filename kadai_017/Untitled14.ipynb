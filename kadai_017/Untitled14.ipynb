{
  "nbformat": 4,
  "nbformat_minor": 0,
  "metadata": {
    "colab": {
      "provenance": []
    },
    "kernelspec": {
      "name": "python3",
      "display_name": "Python 3"
    },
    "language_info": {
      "name": "python"
    }
  },
  "cells": [
    {
      "cell_type": "code",
      "execution_count": 3,
      "metadata": {
        "colab": {
          "base_uri": "https://localhost:8080/"
        },
        "id": "X5QBS3eJGfJP",
        "outputId": "0abba52c-aefb-4794-f518-611080c26d35"
      },
      "outputs": [
        {
          "output_type": "stream",
          "name": "stdout",
          "text": [
            "太郎は30なので大人です。\n",
            "二郎は28なので大人です。\n",
            "三郎は23なので大人です。\n",
            "四郎は20なので大人です。\n",
            "花子は19なので大人ではありません。\n"
          ]
        }
      ],
      "source": [
        "class Human:\n",
        "  def __init__(self, name, age):\n",
        "    self.name = name\n",
        "    self.age = age\n",
        "\n",
        "  def check_adult(self):\n",
        "    if self.age >= 20:\n",
        "      print(f\"{self.name}は{self.age}なので大人です。\")\n",
        "    else:\n",
        "      print(f\"{self.name}は{self.age}なので大人ではありません。\")\n",
        "\n",
        "humans = [Human(\"太郎\", 30), Human(\"二郎\", 28), Human(\"三郎\", 23), Human(\"四郎\", 20), Human(\"花子\", 19)]\n",
        "\n",
        "for human in humans:\n",
        "  human.check_adult()"
      ]
    }
  ]
}