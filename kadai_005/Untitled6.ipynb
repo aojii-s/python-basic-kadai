{
  "nbformat": 4,
  "nbformat_minor": 0,
  "metadata": {
    "colab": {
      "provenance": []
    },
    "kernelspec": {
      "name": "python3",
      "display_name": "Python 3"
    },
    "language_info": {
      "name": "python"
    }
  },
  "cells": [
    {
      "cell_type": "code",
      "execution_count": 4,
      "metadata": {
        "colab": {
          "base_uri": "https://localhost:8080/"
        },
        "id": "jLjyB3eLDs6e",
        "outputId": "ff6edf57-57b4-4158-a3a8-183034d21d20"
      },
      "outputs": [
        {
          "output_type": "stream",
          "name": "stdout",
          "text": [
            "75.0㎠\n"
          ]
        }
      ],
      "source": [
        "# 上辺(単位：cm)\n",
        "a = 10\n",
        "\n",
        "# 下辺(単位：cm)\n",
        "b = 20\n",
        "\n",
        "# 高さ(単位：cm)\n",
        "c = 5\n",
        "\n",
        "# 公式：台形の面積 = (上辺＋下辺)×高さ÷2\n",
        "area = (a + b) * c / 2\n",
        "\n",
        "print(str(area) + \"㎠\")"
      ]
    }
  ]
}