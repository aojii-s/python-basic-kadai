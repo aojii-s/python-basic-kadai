{
  "nbformat": 4,
  "nbformat_minor": 0,
  "metadata": {
    "colab": {
      "provenance": []
    },
    "kernelspec": {
      "name": "python3",
      "display_name": "Python 3"
    },
    "language_info": {
      "name": "python"
    }
  },
  "cells": [
    {
      "cell_type": "code",
      "execution_count": 22,
      "metadata": {
        "colab": {
          "base_uri": "https://localhost:8080/"
        },
        "id": "Gt57Nur0ldhu",
        "outputId": "7a7bb8f3-ca6a-41c6-a4ad-35f3e50c126f"
      },
      "outputs": [
        {
          "output_type": "stream",
          "name": "stdout",
          "text": [
            "121.0円\n"
          ]
        }
      ],
      "source": [
        "def calculate_total(price, taxrate):\n",
        "  total = price + (price * taxrate / 100)\n",
        "  return total\n",
        "\n",
        "print(f\"{calculate_total(110, 10)}円\")"
      ]
    }
  ]
}