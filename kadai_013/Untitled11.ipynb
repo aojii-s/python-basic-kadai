{
  "nbformat": 4,
  "nbformat_minor": 0,
  "metadata": {
    "colab": {
      "provenance": []
    },
    "kernelspec": {
      "name": "python3",
      "display_name": "Python 3"
    },
    "language_info": {
      "name": "python"
    }
  },
  "cells": [
    {
      "cell_type": "code",
      "execution_count": 19,
      "metadata": {
        "colab": {
          "base_uri": "https://localhost:8080/"
        },
        "id": "Gt57Nur0ldhu",
        "outputId": "6e65b121-db97-42ae-e4ce-7fc5df68c96d"
      },
      "outputs": [
        {
          "output_type": "stream",
          "name": "stdout",
          "text": [
            "121.0円\n"
          ]
        }
      ],
      "source": [
        "def calculate_total(price, taxrate):\n",
        "  total = price + (price / taxrate)\n",
        "  return total\n",
        "\n",
        "print(f\"{calculate_total(110, 10)}円\")"
      ]
    }
  ]
}